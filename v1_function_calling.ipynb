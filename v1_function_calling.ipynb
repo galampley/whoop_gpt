{
 "cells": [
  {
   "cell_type": "code",
   "execution_count": 2,
   "id": "dfa95f2f-199a-4191-9617-fe38db153d05",
   "metadata": {
    "tags": []
   },
   "outputs": [
    {
     "name": "stdout",
     "output_type": "stream",
     "text": [
      "Please go to this URL and authorize the app: https://api.prod.whoop.com/oauth/oauth2/auth?response_type=code&client_id=86693dab-f7c4-448e-8fce-af6b4e5b929d&redirect_uri=http%3A%2F%2Flocalhost%3A8000%2Fredirect.html&scope=read%3Aprofile+read%3Arecovery+read%3Aworkout+read%3Asleep+read%3Abody_measurement+read%3Acycles&state=SsGwTXHUZSHL4lEFrczwCS2DtSyH4D\n"
     ]
    },
    {
     "name": "stdin",
     "output_type": "stream",
     "text": [
      "Enter the full callback URL:  http://localhost:8000/redirect.html?code=5FtZViLuG_0UVDBbkbG9R-Fs3uO7KLRdI9-gw0BMmAo.ONY2lu31GV48vdUZsRADbiWltIxA5VF6HMlDCsUmAm4&scope=read%3Aprofile%20read%3Arecovery%20read%3Aworkout%20read%3Asleep%20read%3Abody_measurement%20read%3Acycles&state=SsGwTXHUZSHL4lEFrczwCS2DtSyH4D\n"
     ]
    }
   ],
   "source": [
    "import requests\n",
    "from wrapped_auth import WhoopAPI\n",
    "\n",
    "# Create an instance of WhoopAPI\n",
    "client_id = '86693dab-f7c4-448e-8fce-af6b4e5b929d'\n",
    "client_secret = '0440cc1f0a10a2ef9eefdeeb7f2c1deaa489ec57aa9494a38c1826252bddda7f'\n",
    "redirect_uri = 'http://localhost:8000/redirect.html'\n",
    "all_scopes = [\"read:profile\", \"read:recovery\", \"read:workout\", \"read:sleep\", \"read:body_measurement\", \"read:cycles\"]\n",
    "\n",
    "whoop_api = WhoopAPI(client_id, client_secret, redirect_uri, all_scopes)\n",
    "\n",
    "# Step 1: Get the authorization URL and prompt user to open it in a browser\n",
    "authorization_url = whoop_api.get_authorization_url()\n",
    "print(f\"Please go to this URL and authorize the app: {authorization_url}\")\n",
    "\n",
    "# Step 2: Get the authorization response from the user\n",
    "authorization_response = input('Enter the full callback URL: ')\n",
    "\n",
    "# Step 3: Get the access token using the authorization response\n",
    "whoop_api.get_access_token(authorization_response)\n",
    "\n",
    "# Set up headers for authorization\n",
    "headers = {\n",
    "    'Authorization': f'Bearer {whoop_api.access_token}'\n",
    "}"
   ]
  },
  {
   "cell_type": "code",
   "execution_count": 59,
   "id": "7e5f62b1-6246-447b-bb3c-270ba4366673",
   "metadata": {
    "tags": []
   },
   "outputs": [],
   "source": [
    "import openai \n",
    "import json \n",
    "\n",
    "import os\n",
    "from dotenv import load_dotenv\n",
    "\n",
    "# Provide the path to the .env file\n",
    "env_path = '/Users/galampley/Documents/api_keys.env'  # Replace this with the actual path to your .env file\n",
    "\n",
    "# Load environment variables from .env file\n",
    "load_dotenv(dotenv_path=env_path)\n",
    "\n",
    "# Access environment variables\n",
    "openai.api_key = os.getenv('OPENAI_API_KEY')"
   ]
  },
  {
   "cell_type": "code",
   "execution_count": 60,
   "id": "3bdd4e40-9603-4518-86d9-9692b1fdaa6c",
   "metadata": {
    "tags": []
   },
   "outputs": [],
   "source": [
    "def get_sleep(id):\n",
    "    sleep_endpoint_url = 'https://api.prod.whoop.com/developer/v1/activity/sleep'\n",
    "    response = requests.get(sleep_endpoint_url, headers=headers)\n",
    "    return response\n"
   ]
  },
  {
   "cell_type": "markdown",
   "id": "0f49b6e0-7d58-4095-9c82-42b4c56f3e77",
   "metadata": {},
   "source": [
    "# openai function calling"
   ]
  },
  {
   "cell_type": "code",
   "execution_count": 61,
   "id": "2bf58bdf-cbfe-4681-830f-57540f024b3f",
   "metadata": {
    "tags": []
   },
   "outputs": [],
   "source": [
    "functions = [\n",
    "    {\n",
    "        \"name\": \"get_sleep\",\n",
    "        \"description\": \"Fetch sleep data from Whoop API by id\",\n",
    "        \"parameters\": {\n",
    "            \"type\": \"object\",\n",
    "            \"properties\": {\n",
    "                \"id\": {\n",
    "                    \"type\": \"integer\",\n",
    "                    \"description\": \"The id for which to fetch sleep data\",\n",
    "                },\n",
    "            },\n",
    "            \"required\": [\"id\"],\n",
    "        },\n",
    "    }\n",
    "]\n"
   ]
  },
  {
   "cell_type": "markdown",
   "id": "93f5243d-d675-406d-98d2-9401d07b8706",
   "metadata": {},
   "source": [
    "# llm pass 1: use llm to call the function"
   ]
  },
  {
   "cell_type": "code",
   "execution_count": 121,
   "id": "5146fe06-b41c-4015-9549-62a81e57b1e3",
   "metadata": {
    "tags": []
   },
   "outputs": [],
   "source": [
    "# Make an API call to OpenAI\n",
    "completion = openai.ChatCompletion.create(\n",
    "    model=\"gpt-3.5-turbo-0613\",\n",
    "    messages=[\n",
    "        {\"role\": \"system\", \"content\": \"You are a helpful assistent to query Whoop data. Don't make any answers up. If relevant data is not in the context then say something similar to 'Not in context'\"},\n",
    "        {\"role\": \"user\", \"content\": \"In records, what date is associated with sleep id 10?\"},\n",
    "    ],\n",
    "    functions=functions,\n",
    "    function_call=\"auto\"\n",
    ")"
   ]
  },
  {
   "cell_type": "code",
   "execution_count": 122,
   "id": "b2e3de7b-8fdc-423a-863e-9d1329e0af19",
   "metadata": {
    "tags": []
   },
   "outputs": [
    {
     "name": "stdout",
     "output_type": "stream",
     "text": [
      "{\n",
      "  \"role\": \"assistant\",\n",
      "  \"content\": null,\n",
      "  \"function_call\": {\n",
      "    \"name\": \"get_sleep\",\n",
      "    \"arguments\": \"{\\n  \\\"id\\\": 10\\n}\"\n",
      "  }\n",
      "}\n"
     ]
    }
   ],
   "source": [
    "output = completion[\"choices\"][0][\"message\"]\n",
    "print(output)"
   ]
  },
  {
   "cell_type": "code",
   "execution_count": 123,
   "id": "105f6a85-82f3-4579-8899-47db318ea476",
   "metadata": {
    "tags": []
   },
   "outputs": [
    {
     "name": "stdout",
     "output_type": "stream",
     "text": [
      "10\n",
      "{'id': 10}\n"
     ]
    }
   ],
   "source": [
    "identification = json.loads(output.function_call.arguments).get(\"id\")\n",
    "params = json.loads(output.function_call.arguments)\n",
    "print(identification)\n",
    "print(params)"
   ]
  },
  {
   "cell_type": "code",
   "execution_count": 124,
   "id": "52a3aa4d-9479-4116-aaa8-2da70136e893",
   "metadata": {
    "tags": []
   },
   "outputs": [],
   "source": [
    "chosen_function = eval(output.function_call.name)"
   ]
  },
  {
   "cell_type": "markdown",
   "id": "f4bc3ee0-399c-4fc5-808a-bc885efe6283",
   "metadata": {
    "tags": []
   },
   "source": [
    "## api call for last 10 entries\n",
    "- llm will hallucinate if it doesn't find queried data here, what if I tell system to not make things up? Kinda works"
   ]
  },
  {
   "cell_type": "code",
   "execution_count": 125,
   "id": "7058fb4d-4215-4ccf-a795-3539cc0c31bc",
   "metadata": {
    "collapsed": true,
    "jupyter": {
     "outputs_hidden": true
    },
    "tags": []
   },
   "outputs": [
    {
     "name": "stdout",
     "output_type": "stream",
     "text": [
      "{'records': [{'id': 781257341, 'user_id': 7036784, 'created_at': '2023-09-22T10:39:00.978Z', 'updated_at': '2023-09-22T13:47:19.278Z', 'start': '2023-09-22T05:53:24.852Z', 'end': '2023-09-22T13:29:40.090Z', 'timezone_offset': '-07:00', 'nap': False, 'score_state': 'SCORED', 'score': {'stage_summary': {'total_in_bed_time_milli': 27374277, 'total_awake_time_milli': 4671941, 'total_no_data_time_milli': 0, 'total_light_sleep_time_milli': 10649375, 'total_slow_wave_sleep_time_milli': 4902727, 'total_rem_sleep_time_milli': 7150234, 'sleep_cycle_count': 6, 'disturbance_count': 22}, 'sleep_needed': {'baseline_milli': 27887569, 'need_from_sleep_debt_milli': 4940512, 'need_from_recent_strain_milli': 1460085, 'need_from_recent_nap_milli': 0}, 'respiratory_rate': 17.578125, 'sleep_performance_percentage': 66.0, 'sleep_consistency_percentage': 89.0, 'sleep_efficiency_percentage': 85.36119}}, {'id': 780520172, 'user_id': 7036784, 'created_at': '2023-09-21T13:40:26.533Z', 'updated_at': '2023-09-21T13:40:31.454Z', 'start': '2023-09-21T05:45:02.798Z', 'end': '2023-09-21T13:29:50.548Z', 'timezone_offset': '-07:00', 'nap': False, 'score_state': 'SCORED', 'score': {'stage_summary': {'total_in_bed_time_milli': 27886788, 'total_awake_time_milli': 3604938, 'total_no_data_time_milli': 0, 'total_light_sleep_time_milli': 11217558, 'total_slow_wave_sleep_time_milli': 5277641, 'total_rem_sleep_time_milli': 7786651, 'sleep_cycle_count': 7, 'disturbance_count': 13}, 'sleep_needed': {'baseline_milli': 27887867, 'need_from_sleep_debt_milli': 5993730, 'need_from_recent_strain_milli': 281277, 'need_from_recent_nap_milli': 0}, 'respiratory_rate': 17.402344, 'sleep_performance_percentage': 71.0, 'sleep_consistency_percentage': 79.0, 'sleep_efficiency_percentage': 87.52553}}, {'id': 779342236, 'user_id': 7036784, 'created_at': '2023-09-20T11:21:19.182Z', 'updated_at': '2023-09-20T13:40:40.853Z', 'start': '2023-09-20T05:52:17.244Z', 'end': '2023-09-20T13:23:08.419Z', 'timezone_offset': '-07:00', 'nap': False, 'score_state': 'SCORED', 'score': {'stage_summary': {'total_in_bed_time_milli': 27050214, 'total_awake_time_milli': 5219876, 'total_no_data_time_milli': 0, 'total_light_sleep_time_milli': 13322787, 'total_slow_wave_sleep_time_milli': 4470093, 'total_rem_sleep_time_milli': 4037458, 'sleep_cycle_count': 5, 'disturbance_count': 19}, 'sleep_needed': {'baseline_milli': 27888166, 'need_from_sleep_debt_milli': 3422269, 'need_from_recent_strain_milli': 2507362, 'need_from_recent_nap_milli': 0}, 'respiratory_rate': 17.402344, 'sleep_performance_percentage': 65.0, 'sleep_consistency_percentage': 66.0, 'sleep_efficiency_percentage': 80.70301}}, {'id': 778465925, 'user_id': 7036784, 'created_at': '2023-09-19T13:05:21.938Z', 'updated_at': '2023-09-19T13:40:38.089Z', 'start': '2023-09-19T04:36:56.910Z', 'end': '2023-09-19T13:30:13.000Z', 'timezone_offset': '-07:00', 'nap': False, 'score_state': 'SCORED', 'score': {'stage_summary': {'total_in_bed_time_milli': 31996090, 'total_awake_time_milli': 4281378, 'total_no_data_time_milli': 0, 'total_light_sleep_time_milli': 18053512, 'total_slow_wave_sleep_time_milli': 5392965, 'total_rem_sleep_time_milli': 4268235, 'sleep_cycle_count': 8, 'disturbance_count': 16}, 'sleep_needed': {'baseline_milli': 27888465, 'need_from_sleep_debt_milli': 3738803, 'need_from_recent_strain_milli': 1410973, 'need_from_recent_nap_milli': 0}, 'respiratory_rate': 17.402344, 'sleep_performance_percentage': 84.0, 'sleep_consistency_percentage': 54.0, 'sleep_efficiency_percentage': 86.619064}}, {'id': 777277162, 'user_id': 7036784, 'created_at': '2023-09-18T10:46:29.871Z', 'updated_at': '2023-09-18T13:45:55.665Z', 'start': '2023-09-18T04:12:33.549Z', 'end': '2023-09-18T13:29:38.480Z', 'timezone_offset': '-07:00', 'nap': False, 'score_state': 'SCORED', 'score': {'stage_summary': {'total_in_bed_time_milli': 32847188, 'total_awake_time_milli': 5133431, 'total_no_data_time_milli': 0, 'total_light_sleep_time_milli': 15053209, 'total_slow_wave_sleep_time_milli': 6777286, 'total_rem_sleep_time_milli': 5883262, 'sleep_cycle_count': 5, 'disturbance_count': 13}, 'sleep_needed': {'baseline_milli': 27888763, 'need_from_sleep_debt_milli': 4652596, 'need_from_recent_strain_milli': 988314, 'need_from_recent_nap_milli': 0}, 'respiratory_rate': 18.017578, 'sleep_performance_percentage': 83.0, 'sleep_consistency_percentage': 46.0, 'sleep_efficiency_percentage': 85.65017}}, {'id': 776718852, 'user_id': 7036784, 'created_at': '2023-09-17T17:11:16.560Z', 'updated_at': '2023-09-17T17:11:21.844Z', 'start': '2023-09-17T07:37:43.864Z', 'end': '2023-09-17T17:06:49.612Z', 'timezone_offset': '-07:00', 'nap': False, 'score_state': 'SCORED', 'score': {'stage_summary': {'total_in_bed_time_milli': 33971751, 'total_awake_time_milli': 6171646, 'total_no_data_time_milli': 0, 'total_light_sleep_time_milli': 20330692, 'total_slow_wave_sleep_time_milli': 5998639, 'total_rem_sleep_time_milli': 1470774, 'sleep_cycle_count': 1, 'disturbance_count': 11}, 'sleep_needed': {'baseline_milli': 27889062, 'need_from_sleep_debt_milli': 5297342, 'need_from_recent_strain_milli': 1851072, 'need_from_recent_nap_milli': 0}, 'respiratory_rate': 17.929688, 'sleep_performance_percentage': 79.0, 'sleep_consistency_percentage': 63.0, 'sleep_efficiency_percentage': 82.18184}}, {'id': 775603575, 'user_id': 7036784, 'created_at': '2023-09-16T13:18:57.487Z', 'updated_at': '2023-09-16T14:43:03.228Z', 'start': '2023-09-16T06:18:28.132Z', 'end': '2023-09-16T14:29:16.868Z', 'timezone_offset': '-07:00', 'nap': False, 'score_state': 'SCORED', 'score': {'stage_summary': {'total_in_bed_time_milli': 29448736, 'total_awake_time_milli': 3492428, 'total_no_data_time_milli': 0, 'total_light_sleep_time_milli': 16929575, 'total_slow_wave_sleep_time_milli': 4989222, 'total_rem_sleep_time_milli': 4037511, 'sleep_cycle_count': 4, 'disturbance_count': 9}, 'sleep_needed': {'baseline_milli': 27889361, 'need_from_sleep_debt_milli': 3837054, 'need_from_recent_strain_milli': 2470203, 'need_from_recent_nap_milli': 0}, 'respiratory_rate': 17.695312, 'sleep_performance_percentage': 76.0, 'sleep_consistency_percentage': 45.0, 'sleep_efficiency_percentage': 88.574356}}, {'id': 774734315, 'user_id': 7036784, 'created_at': '2023-09-15T13:35:52.980Z', 'updated_at': '2023-09-15T17:21:50.004Z', 'start': '2023-09-15T08:30:01.908Z', 'end': '2023-09-15T17:07:13.150Z', 'timezone_offset': '-10:00', 'nap': False, 'score_state': 'SCORED', 'score': {'stage_summary': {'total_in_bed_time_milli': 31031242, 'total_awake_time_milli': 5335267, 'total_no_data_time_milli': 0, 'total_light_sleep_time_milli': 9343950, 'total_slow_wave_sleep_time_milli': 6142827, 'total_rem_sleep_time_milli': 10209198, 'sleep_cycle_count': 8, 'disturbance_count': 16}, 'sleep_needed': {'baseline_milli': 27889660, 'need_from_sleep_debt_milli': 7668000, 'need_from_recent_strain_milli': 403182, 'need_from_recent_nap_milli': -4296117}, 'respiratory_rate': 17.578125, 'sleep_performance_percentage': 81.0, 'sleep_consistency_percentage': 54.0, 'sleep_efficiency_percentage': 83.81947}}, {'id': 774157050, 'user_id': 7036784, 'created_at': '2023-09-14T23:53:26.784Z', 'updated_at': '2023-09-14T23:53:31.303Z', 'start': '2023-09-14T20:09:38.078Z', 'end': '2023-09-14T21:48:39.004Z', 'timezone_offset': '-10:00', 'nap': True, 'score_state': 'SCORED', 'score': {'stage_summary': {'total_in_bed_time_milli': 5449686, 'total_awake_time_milli': 1153569, 'total_no_data_time_milli': 0, 'total_light_sleep_time_milli': 3805850, 'total_slow_wave_sleep_time_milli': 0, 'total_rem_sleep_time_milli': 490267, 'sleep_cycle_count': 1, 'disturbance_count': 2}, 'sleep_needed': {'baseline_milli': 27889959, 'need_from_sleep_debt_milli': 7668000, 'need_from_recent_strain_milli': 269021, 'need_from_recent_nap_milli': 0}, 'respiratory_rate': 19.365234, 'sleep_performance_percentage': 12.0, 'sleep_consistency_percentage': 42.0, 'sleep_efficiency_percentage': 94.90341}}, {'id': 773807465, 'user_id': 7036784, 'created_at': '2023-09-14T13:43:54.155Z', 'updated_at': '2023-09-14T13:43:58.602Z', 'start': '2023-09-14T08:07:12.744Z', 'end': '2023-09-14T13:03:46.636Z', 'timezone_offset': '-10:00', 'nap': False, 'score_state': 'SCORED', 'score': {'stage_summary': {'total_in_bed_time_milli': 17793892, 'total_awake_time_milli': 1961077, 'total_no_data_time_milli': 0, 'total_light_sleep_time_milli': 8565289, 'total_slow_wave_sleep_time_milli': 4008688, 'total_rem_sleep_time_milli': 3258838, 'sleep_cycle_count': 2, 'disturbance_count': 12}, 'sleep_needed': {'baseline_milli': 27889959, 'need_from_sleep_debt_milli': 5470997, 'need_from_recent_strain_milli': 2071361, 'need_from_recent_nap_milli': 0}, 'respiratory_rate': 17.636719, 'sleep_performance_percentage': 45.0, 'sleep_consistency_percentage': 60.0, 'sleep_efficiency_percentage': 89.41368}}], 'next_token': 'eyIkIjoib0AxIiwibyI6MTB9'}\n"
     ]
    }
   ],
   "source": [
    "sleep_id = chosen_function(**params)\n",
    "print(sleep_id.json())"
   ]
  },
  {
   "cell_type": "markdown",
   "id": "42a5e26c-33c7-4cba-8653-cd7c52899675",
   "metadata": {},
   "source": [
    "# llm pass 2: add original function output to llm pass 2"
   ]
  },
  {
   "cell_type": "code",
   "execution_count": 126,
   "id": "52b86228-e560-4e68-9868-38930105d596",
   "metadata": {
    "tags": []
   },
   "outputs": [
    {
     "name": "stdout",
     "output_type": "stream",
     "text": [
      "The date associated with sleep id 10 is not in context.\n"
     ]
    }
   ],
   "source": [
    "sleep_id_json = json.dumps(sleep_id.json())\n",
    "\n",
    "second_completion = openai.ChatCompletion.create(\n",
    "    model=\"gpt-3.5-turbo-0613\",\n",
    "    messages=[\n",
    "        {\"role\": \"system\", \"content\": \"You are a helpful assistent to query Whoop data. Don't make any answers up. If relevant data is not in {sleep_id_json} then say something similar to 'Not in context'\"},\n",
    "        {\"role\": \"user\", \"content\": \"In records, what date is associated with sleep id 10?\"},\n",
    "        {\"role\": \"function\", \"name\": output.function_call.name, \"content\": sleep_id_json},\n",
    "    ],\n",
    "    functions=functions,\n",
    "    function_call=\"auto\"\n",
    ")\n",
    "response = second_completion.choices[0].message.content\n",
    "print(response)"
   ]
  },
  {
   "cell_type": "markdown",
   "id": "2588ecda-f18d-465b-bb9b-50bdfe922e53",
   "metadata": {},
   "source": [
    "# pagination + all sleep data points"
   ]
  },
  {
   "cell_type": "code",
   "execution_count": 141,
   "id": "1ff9aced-44f6-433d-82a1-8533f9b5a27e",
   "metadata": {
    "tags": []
   },
   "outputs": [],
   "source": [
    "def get_sleep_v2(id=None, user_id=None, created_at=None, updated_at=None, start=None, end=None, timezone_offset=None, nap=None, score_state=None, score=None):\n",
    "    sleep_endpoint_url = 'https://api.prod.whoop.com/developer/v1/activity/sleep'\n",
    "    all_records = []\n",
    "    next_token = None\n",
    "\n",
    "    while True:\n",
    "        # Create a dictionary for query parameters\n",
    "        params = {\n",
    "            'id': id,\n",
    "            'user_id': user_id,\n",
    "            'created_at': created_at,\n",
    "            'updated_at': updated_at,\n",
    "            'start': start,\n",
    "            'end': end,\n",
    "            'timezone_offset': timezone_offset,\n",
    "            'nap': nap,\n",
    "            'score_state': score_state,\n",
    "            'score': score\n",
    "        }\n",
    "\n",
    "        if next_token:\n",
    "            params[\"nextToken\"] = next_token\n",
    "\n",
    "        # Remove None values from params\n",
    "        params = {k: v for k, v in params.items() if v is not None}\n",
    "\n",
    "        response = requests.get(sleep_endpoint_url, headers=headers, params=params)\n",
    "        \n",
    "        all_data = response.json()\n",
    "\n",
    "        all_records.extend(all_data.get(\"records\", []))\n",
    "        next_token = all_data.get(\"next_token\")\n",
    "\n",
    "        if not next_token:\n",
    "            break\n",
    "\n",
    "    return all_records\n"
   ]
  },
  {
   "cell_type": "code",
   "execution_count": 142,
   "id": "d26d91a7-d61a-487a-92d3-df249ad98ce6",
   "metadata": {
    "tags": []
   },
   "outputs": [],
   "source": [
    "functions_v2 = [\n",
    "    {\n",
    "        \"name\": \"get_sleep_v2\",\n",
    "        \"description\": \"Get sleep data for a single day or a range of days. If relevant, calculate average, max or min of sleep data.\",\n",
    "        \"parameters\": {\n",
    "            \"type\": \"object\",\n",
    "            \"properties\": {\n",
    "                \"id\": {\"type\": \"integer\", \"description\": \"Unique identifier for the sleep activity.\"},\n",
    "                \"user_id\": {\"type\": \"integer\", \"description\": \"The WHOOP User who performed the sleep activity.\"},\n",
    "                \"created_at\": {\"type\": \"string\", \"description\": \"The time the sleep activity was recorded in WHOOP.\"},\n",
    "                \"updated_at\": {\"type\": \"string\", \"description\": \"The time the sleep activity was last updated in WHOOP.\"},\n",
    "                \"start\": {\"type\": \"string\", \"description\": \"Start time bound of the sleep. Represented as ISO 8601 timestamp.\"},\n",
    "                \"end\": {\"type\": \"string\", \"description\": \"End time bound of the sleep. Represented as ISO 8601 timestamp\"},\n",
    "                \"timezone_offset\": {\"type\": \"string\", \"description\": \"The user's timezone offset at the time the sleep was recorded.\"},\n",
    "                \"nap\": {\"type\": \"boolean\", \"description\": \"If true, this sleep activity was a nap for the user.\"},\n",
    "                \"score_state\": {\n",
    "                    \"type\": \"string\",\n",
    "                    \"description\": \"The scoring state of the sleep activity.\",\n",
    "                    \"enum\": [\"SCORED\", \"PENDING_SCORE\", \"UNSCORABLE\"]\n",
    "                },\n",
    "                \"score\": {\n",
    "                    \"type\": \"object\",\n",
    "                    \"description\": \"WHOOP's measurements and evaluation of the sleep activity.\",\n",
    "                    \"properties\": {\n",
    "                        \"stage_summary\": {\n",
    "                            \"type\": \"object\",\n",
    "                            \"description\": \"Summary of different sleep stages.\",\n",
    "                            \"properties\": {\n",
    "                                \"total_in_bed_time_milli\": {\"type\": \"integer\", \"description\": \"Total time in bed in milliseconds.\"},\n",
    "                                \"total_awake_time_milli\": {\"type\": \"integer\", \"description\": \"Total awake time in milliseconds.\"},\n",
    "                                \"total_no_data_time_milli\": {\"type\": \"integer\", \"description\": \"Total time with no data in milliseconds.\"},\n",
    "                                \"total_light_sleep_time_milli\": {\"type\": \"integer\", \"description\": \"Total light sleep time in milliseconds.\"},\n",
    "                                \"total_slow_wave_sleep_time_milli\": {\"type\": \"integer\", \"description\": \"Total slow-wave sleep time in milliseconds.\"},\n",
    "                                \"total_rem_sleep_time_milli\": {\"type\": \"integer\", \"description\": \"Total REM sleep time in milliseconds.\"},\n",
    "                                \"sleep_cycle_count\": {\"type\": \"integer\", \"description\": \"Total number of sleep cycles.\"},\n",
    "                                \"disturbance_count\": {\"type\": \"integer\", \"description\": \"Total number of disturbances during sleep.\"}\n",
    "                            },\n",
    "                        },\n",
    "                        \"sleep_needed\": {\n",
    "                            \"type\": \"object\",\n",
    "                            \"description\": \"Sleep needed calculated from various factors.\",\n",
    "                            \"properties\": {\n",
    "                                \"baseline_milli\": {\"type\": \"integer\", \"description\": \"Baseline sleep needed in milliseconds.\"},\n",
    "                                \"need_from_sleep_debt_milli\": {\"type\": \"integer\", \"description\": \"Additional sleep needed due to sleep debt, in milliseconds.\"},\n",
    "                                \"need_from_recent_strain_milli\": {\"type\": \"integer\", \"description\": \"Additional sleep needed due to recent strain, in milliseconds.\"},\n",
    "                                \"need_from_recent_nap_milli\": {\"type\": \"integer\", \"description\": \"Sleep needed adjustment due to recent nap, in milliseconds.\"}\n",
    "                            },\n",
    "                        },\n",
    "                        \"respiratory_rate\": {\"type\": \"number\", \"description\": \"Rate of breathing while asleep.\"},\n",
    "                        \"sleep_performance_percentage\": {\"type\": \"number\", \"description\": \"How well the Whoop User slept.\"},\n",
    "                        \"sleep_consistency_percentage\": {\"type\": \"number\", \"description\": \"How consistent the Whoop User slept.\"},\n",
    "                        \"sleep_efficiency_percentage\": {\"type\": \"number\", \"description\": \"How efficient the Whoop User slept.\"}\n",
    "                    },\n",
    "                },\n",
    "            },\n",
    "        },\n",
    "    }\n",
    "]\n"
   ]
  },
  {
   "cell_type": "code",
   "execution_count": 143,
   "id": "9adb423a-4452-4ad4-93cb-8569829f9011",
   "metadata": {
    "tags": []
   },
   "outputs": [],
   "source": [
    "user_query = \"What was my baseline sleep needed, from 8/28/23 to 9/2/23?\""
   ]
  },
  {
   "cell_type": "code",
   "execution_count": 144,
   "id": "4291ab51-ad2a-4d90-a8f6-3a7045707e86",
   "metadata": {
    "tags": []
   },
   "outputs": [],
   "source": [
    "# Make an API call to OpenAI\n",
    "completion_v2 = openai.ChatCompletion.create(\n",
    "    model=\"gpt-3.5-turbo-0613\",\n",
    "    messages=[\n",
    "        {\"role\": \"user\", \"content\": user_query}\n",
    "    ],\n",
    "    functions=functions_v2,\n",
    "    function_call=\"auto\"\n",
    ")"
   ]
  },
  {
   "cell_type": "code",
   "execution_count": 145,
   "id": "feed31d9-e183-4c00-868b-827aa586a3c1",
   "metadata": {
    "tags": []
   },
   "outputs": [
    {
     "name": "stdout",
     "output_type": "stream",
     "text": [
      "{\n",
      "  \"role\": \"assistant\",\n",
      "  \"content\": null,\n",
      "  \"function_call\": {\n",
      "    \"name\": \"get_sleep_v2\",\n",
      "    \"arguments\": \"{\\n  \\\"start\\\": \\\"2023-08-28T00:00:00Z\\\",\\n  \\\"end\\\": \\\"2023-09-02T23:59:59Z\\\"\\n}\"\n",
      "  }\n",
      "}\n"
     ]
    }
   ],
   "source": [
    "output_v2 = completion_v2[\"choices\"][0][\"message\"]\n",
    "print(output_v2)"
   ]
  },
  {
   "cell_type": "code",
   "execution_count": 146,
   "id": "c18a36cd-d437-47d3-a958-000a7bb8d923",
   "metadata": {
    "tags": []
   },
   "outputs": [
    {
     "name": "stdout",
     "output_type": "stream",
     "text": [
      "{'start': '2023-08-28T00:00:00Z', 'end': '2023-09-02T23:59:59Z'}\n"
     ]
    }
   ],
   "source": [
    "params_v2 = json.loads(output_v2.function_call.arguments)\n",
    "print(params_v2)"
   ]
  },
  {
   "cell_type": "code",
   "execution_count": 147,
   "id": "f02b091f-a2cc-4087-acb8-db2c2ddefb88",
   "metadata": {
    "tags": []
   },
   "outputs": [],
   "source": [
    "chosen_function_v2 = eval(output_v2.function_call.name)"
   ]
  },
  {
   "cell_type": "code",
   "execution_count": 148,
   "id": "57903f68-66ad-406f-8298-878931237431",
   "metadata": {
    "tags": []
   },
   "outputs": [
    {
     "name": "stdout",
     "output_type": "stream",
     "text": [
      "[{'id': 762638632, 'user_id': 7036784, 'created_at': '2023-09-02T13:46:26.897Z', 'updated_at': '2023-09-02T13:46:32.028Z', 'start': '2023-09-02T05:54:10.409Z', 'end': '2023-09-02T13:27:59.541Z', 'timezone_offset': '-07:00', 'nap': False, 'score_state': 'SCORED', 'score': {'stage_summary': {'total_in_bed_time_milli': 27228171, 'total_awake_time_milli': 3950965, 'total_no_data_time_milli': 0, 'total_light_sleep_time_milli': 11361562, 'total_slow_wave_sleep_time_milli': 6263134, 'total_rem_sleep_time_milli': 5652510, 'sleep_cycle_count': 7, 'disturbance_count': 11}, 'sleep_needed': {'baseline_milli': 27893554, 'need_from_sleep_debt_milli': 2331104, 'need_from_recent_strain_milli': 2505425, 'need_from_recent_nap_milli': 0}, 'respiratory_rate': 18.046875, 'sleep_performance_percentage': 71.0, 'sleep_consistency_percentage': 84.0, 'sleep_efficiency_percentage': 85.489426}}, {'id': 761469097, 'user_id': 7036784, 'created_at': '2023-09-01T09:12:07.656Z', 'updated_at': '2023-09-01T14:39:09.298Z', 'start': '2023-09-01T04:38:03.876Z', 'end': '2023-09-01T13:29:40.229Z', 'timezone_offset': '-07:00', 'nap': False, 'score_state': 'SCORED', 'score': {'stage_summary': {'total_in_bed_time_milli': 31895392, 'total_awake_time_milli': 5739033, 'total_no_data_time_milli': 0, 'total_light_sleep_time_milli': 16005845, 'total_slow_wave_sleep_time_milli': 5248779, 'total_rem_sleep_time_milli': 4901735, 'sleep_cycle_count': 5, 'disturbance_count': 16}, 'sleep_needed': {'baseline_milli': 27893854, 'need_from_sleep_debt_milli': 1793176, 'need_from_recent_strain_milli': 257759, 'need_from_recent_nap_milli': 0}, 'respiratory_rate': 17.519531, 'sleep_performance_percentage': 87.0, 'sleep_consistency_percentage': 92.0, 'sleep_efficiency_percentage': 82.0067}}, {'id': 760708803, 'user_id': 7036784, 'created_at': '2023-08-31T11:29:21.412Z', 'updated_at': '2023-08-31T13:50:53.643Z', 'start': '2023-08-31T04:34:30.253Z', 'end': '2023-08-31T13:29:57.208Z', 'timezone_offset': '-07:00', 'nap': False, 'score_state': 'SCORED', 'score': {'stage_summary': {'total_in_bed_time_milli': 32125994, 'total_awake_time_milli': 5018033, 'total_no_data_time_milli': 0, 'total_light_sleep_time_milli': 15629907, 'total_slow_wave_sleep_time_milli': 6834929, 'total_rem_sleep_time_milli': 4643125, 'sleep_cycle_count': 7, 'disturbance_count': 11}, 'sleep_needed': {'baseline_milli': 27894154, 'need_from_sleep_debt_milli': 1255236, 'need_from_recent_strain_milli': 1024174, 'need_from_recent_nap_milli': 0}, 'respiratory_rate': 17.34375, 'sleep_performance_percentage': 90.0, 'sleep_consistency_percentage': 78.0, 'sleep_efficiency_percentage': 84.38015}}, {'id': 759934754, 'user_id': 7036784, 'created_at': '2023-08-30T13:23:40.011Z', 'updated_at': '2023-08-30T13:55:49.757Z', 'start': '2023-08-30T04:28:01.689Z', 'end': '2023-08-30T13:30:05.000Z', 'timezone_offset': '-07:00', 'nap': False, 'score_state': 'SCORED', 'score': {'stage_summary': {'total_in_bed_time_milli': 32523311, 'total_awake_time_milli': 4751016, 'total_no_data_time_milli': 0, 'total_light_sleep_time_milli': 15111850, 'total_slow_wave_sleep_time_milli': 4470110, 'total_rem_sleep_time_milli': 8190335, 'sleep_cycle_count': 7, 'disturbance_count': 11}, 'sleep_needed': {'baseline_milli': 27894454, 'need_from_sleep_debt_milli': 1255250, 'need_from_recent_strain_milli': 756628, 'need_from_recent_nap_milli': 0}, 'respiratory_rate': 17.8125, 'sleep_performance_percentage': 93.0, 'sleep_consistency_percentage': 61.0, 'sleep_efficiency_percentage': 85.39197}}, {'id': 758925704, 'user_id': 7036784, 'created_at': '2023-08-29T12:15:25.540Z', 'updated_at': '2023-08-29T13:44:57.194Z', 'start': '2023-08-29T04:47:15.063Z', 'end': '2023-08-29T13:26:21.600Z', 'timezone_offset': '-07:00', 'nap': False, 'score_state': 'SCORED', 'score': {'stage_summary': {'total_in_bed_time_milli': 31145576, 'total_awake_time_milli': 3085788, 'total_no_data_time_milli': 0, 'total_light_sleep_time_milli': 12544164, 'total_slow_wave_sleep_time_milli': 6344680, 'total_rem_sleep_time_milli': 9170944, 'sleep_cycle_count': 5, 'disturbance_count': 16}, 'sleep_needed': {'baseline_milli': 27894755, 'need_from_sleep_debt_milli': 896617, 'need_from_recent_strain_milli': 1242532, 'need_from_recent_nap_milli': 0}, 'respiratory_rate': 17.490234, 'sleep_performance_percentage': 93.0, 'sleep_consistency_percentage': 48.0, 'sleep_efficiency_percentage': 90.09238}}, {'id': 757746365, 'user_id': 7036784, 'created_at': '2023-08-28T08:14:54.792Z', 'updated_at': '2023-08-28T13:48:52.757Z', 'start': '2023-08-28T04:03:38.999Z', 'end': '2023-08-28T13:29:43.119Z', 'timezone_offset': '-07:00', 'nap': False, 'score_state': 'SCORED', 'score': {'stage_summary': {'total_in_bed_time_milli': 33963158, 'total_awake_time_milli': 4469151, 'total_no_data_time_milli': 0, 'total_light_sleep_time_milli': 14210087, 'total_slow_wave_sleep_time_milli': 5767896, 'total_rem_sleep_time_milli': 9516024, 'sleep_cycle_count': 8, 'disturbance_count': 11}, 'sleep_needed': {'baseline_milli': 27895055, 'need_from_sleep_debt_milli': 5857961, 'need_from_recent_strain_milli': 410700, 'need_from_recent_nap_milli': -3229041}, 'respiratory_rate': 17.753906, 'sleep_performance_percentage': 95.0, 'sleep_consistency_percentage': 35.0, 'sleep_efficiency_percentage': 87.28588}}, {'id': 757600362, 'user_id': 7036784, 'created_at': '2023-08-28T03:10:32.468Z', 'updated_at': '2023-08-28T03:10:36.733Z', 'start': '2023-08-27T23:58:31.004Z', 'end': '2023-08-28T01:03:24.307Z', 'timezone_offset': '-07:00', 'nap': True, 'score_state': 'SCORED', 'score': {'stage_summary': {'total_in_bed_time_milli': 3892342, 'total_awake_time_milli': 663301, 'total_no_data_time_milli': 0, 'total_light_sleep_time_milli': 2623414, 'total_slow_wave_sleep_time_milli': 605627, 'total_rem_sleep_time_milli': 0, 'sleep_cycle_count': 0, 'disturbance_count': 0}, 'sleep_needed': {'baseline_milli': 27895355, 'need_from_sleep_debt_milli': 5858024, 'need_from_recent_strain_milli': 396645, 'need_from_recent_nap_milli': 0}, 'respiratory_rate': 18.251953, 'sleep_performance_percentage': 9.0, 'sleep_consistency_percentage': 37.0, 'sleep_efficiency_percentage': 100.0}}]\n"
     ]
    }
   ],
   "source": [
    "sleep_data = chosen_function_v2(**params_v2)\n",
    "print(sleep_data)"
   ]
  },
  {
   "cell_type": "code",
   "execution_count": 149,
   "id": "cb38302d-bfb9-4211-a4e2-b551bf470954",
   "metadata": {
    "tags": []
   },
   "outputs": [
    {
     "name": "stdout",
     "output_type": "stream",
     "text": [
      "The baseline sleep needed from 8/28/23 to 9/2/23 was as follows:\n",
      "\n",
      "- 8/28/23: 27895055 milliseconds (7 hours 44 minutes)\n",
      "- 8/29/23: 27894755 milliseconds (7 hours 44 minutes)\n",
      "- 8/30/23: 27894454 milliseconds (7 hours 44 minutes)\n",
      "- 8/31/23: 27894154 milliseconds (7 hours 44 minutes)\n",
      "- 9/1/23: 27893854 milliseconds (7 hours 44 minutes)\n",
      "- 9/2/23: 27893554 milliseconds (7 hours 44 minutes)\n",
      "\n",
      "Please note that these values are given in milliseconds.\n"
     ]
    }
   ],
   "source": [
    "sleep_data_json = json.dumps(sleep_data)\n",
    "\n",
    "second_completion_v2 = openai.ChatCompletion.create(\n",
    "    model=\"gpt-3.5-turbo-0613\",\n",
    "    messages=[  \n",
    "       {\"role\": \"system\", \"content\": \"Always convert milliseconds to hours. There are 3.6 million millseconds in an hour.\"},\n",
    "        {\"role\": \"user\", \"content\": user_query},\n",
    "        {\"role\": \"function\", \"name\": output_v2.function_call.name, \"content\": sleep_data_json},\n",
    "    ],\n",
    "    functions=functions_v2,\n",
    ")\n",
    "response_v2 = second_completion_v2.choices[0].message.content\n",
    "print(response_v2)"
   ]
  },
  {
   "cell_type": "code",
   "execution_count": null,
   "id": "7869274b-c25e-4276-b826-42ad98d697cf",
   "metadata": {},
   "outputs": [],
   "source": []
  }
 ],
 "metadata": {
  "kernelspec": {
   "display_name": "Python [conda env:new_env]",
   "language": "python",
   "name": "new_env"
  },
  "language_info": {
   "codemirror_mode": {
    "name": "ipython",
    "version": 3
   },
   "file_extension": ".py",
   "mimetype": "text/x-python",
   "name": "python",
   "nbconvert_exporter": "python",
   "pygments_lexer": "ipython3",
   "version": "3.10.12"
  }
 },
 "nbformat": 4,
 "nbformat_minor": 5
}
